{
 "cells": [
  {
   "cell_type": "markdown",
   "metadata": {},
   "source": [
    "### Imports"
   ]
  },
  {
   "cell_type": "code",
   "execution_count": 1,
   "metadata": {
    "collapsed": false
   },
   "outputs": [],
   "source": [
    "#This directory contains all the data needed for the module. It should be in the same directory as the notebook\n",
    "dataFolder = \"data\" \n",
    "import sys, os, string, shutil\n",
    "\n",
    "sys.path.append(( os.path.abspath( os.path.join(os.path.realpath(\"__file__\"), os.pardir, os.pardir) )))\n",
    "import uvmodlib.v1 as uvmod"
   ]
  },
  {
   "cell_type": "markdown",
   "metadata": {},
   "source": [
    "###  Basic Class\n",
    "This class generates a bubble chart in the style of http://gapminder.org "
   ]
  },
  {
   "cell_type": "code",
   "execution_count": 13,
   "metadata": {
    "collapsed": false
   },
   "outputs": [],
   "source": [
    "class BasicObjectInterior():\n",
    "    def __init__(self, object):\n",
    "        self.object = object\n",
    "        self.radialTex = \"UNINITIALIZED\"\n",
    "        uvmod.Utility.ensurerelativepathexsists(\"interior.vs\",dataFolder)\n",
    "        uvmod.Utility.ensurerelativepathexsists(\"raidalTextureOctantInterior.fs\")\n",
    "        self.cutCrustAlpha = 0\n",
    "        self.cutOctant = \"1 1 1\"\n",
    "    def setRadialTex(self, radialTex):\n",
    "        uvmod.Utility.ensurerelativepathexsists(radialTex,dataFolder)\n",
    "        self.radialTex = radialTex\n",
    "    def setCutCrustAlpha(self, cutCrustAlpha):\n",
    "        #Restrict to [0,1]\n",
    "        self.cutCrustAlpha = max( min(cutCrustAlpha, 1.) , 0.)\n",
    "    def setCutOctant(self, cutOctant):\n",
    "        self.cutOctant = \" \".join(str(c) for c in cutOctant)\n",
    "    def generatemod(self):\n",
    "        self.object.setgeometry(self.object.name+\"Mesh.usesconf\")\n",
    "        return self.object.generatemod()\n",
    "    def generatefiles(self, absOutDir, relOutDir):\n",
    "        fileName = self.object.name+\"Mesh.usesconf\"\n",
    "        tempFile = open(\"./confTemplates/OctantCutRadialTexTemplateUSESConf.txt\")\n",
    "        s = tempFile.read()\n",
    "        tempFile.close()\n",
    "        template = string.Template(s)\n",
    "        outfile = open(absOutDir+\"//\"+fileName, \"w\")\n",
    "        outfile.write(template.substitute(folderName = relOutDir,\n",
    "                                          radialTex = self.radialTex,\n",
    "                                          cutOctant = self.cutOctant,\n",
    "                                          cutCrustAlpha = self.cutCrustAlpha))\n",
    "        outfile.close()\n",
    "        shutil.copy(os.getcwd()+\"\\\\\"+dataFolder+\"\\\\sphere.3ds\", absOutDir)\n",
    "        shutil.copy(os.getcwd()+\"\\\\\"+dataFolder+\"\\\\interior.vs\", absOutDir)\n",
    "        shutil.copy(os.getcwd()+\"\\\\\"+dataFolder+\"\\\\raidalTextureOctantInterior.fs\", absOutDir)\n",
    "        shutil.copy(os.getcwd()+\"\\\\\"+dataFolder+\"\\\\\"+self.radialTex, absOutDir)"
   ]
  },
  {
   "cell_type": "markdown",
   "metadata": {},
   "source": [
    "### Textured Class\n",
    "This class allows you to texture each of the three cut planes of an octant of the object differently.\n",
    "### Texture Mapping Information\n",
    "<div id = \"TextureWrapInfo\" align = \"left\">\n",
    "This screenshot\n",
    "<br />\n",
    "<img src = \"screenshot.png\" width = \"128px\" style = \"margin-left: 0px\"/>\n",
    "was made with the following textures<br />\n",
    "<table align = \"left\">\n",
    "<tr><td>XY Texture</td><td>XZ Texture</td><td>YZ Texture</td></tr>\n",
    "<tr><td><img src = \"data/r-g.png\" width = 128px/></td><td><img src = \"data/r-b.png\" width = 128px align = \"left\"/></td><td><img src = \"data/g-b.png\" width = 128px align = \"left\"/></td></tr>\n",
    "</table>\n",
    "</div>"
   ]
  },
  {
   "cell_type": "code",
   "execution_count": 14,
   "metadata": {
    "collapsed": false
   },
   "outputs": [],
   "source": [
    "class TexturedObjectInterior():\n",
    "    def __init__(self, object):\n",
    "        self.object = object\n",
    "        self.xyplaneTex = \"UNINITIALIZED\"\n",
    "        self.xzplaneTex = \"UNINITIALIZED\"\n",
    "        self.yzplaneTex = \"UNINITIALIZED\"\n",
    "        self.fadeStartDistance = 3\n",
    "        self.fadeEndDistance = 4\n",
    "        uvmod.Utility.ensurerelativepathexsists(\"interior.vs\",dataFolder)\n",
    "        uvmod.Utility.ensurerelativepathexsists(\"arbitraryTextureOctantInterior.fs\",dataFolder)\n",
    "        self.cutCrustAlpha = 0\n",
    "        self.cutOctant = \"1 1 1\"\n",
    "    def setXYPlaneTex(self, xyplaneTex):\n",
    "        uvmod.Utility.ensurerelativepathexsists(xyplaneTex,dataFolder)\n",
    "        self.xyplaneTex = xyplaneTex\n",
    "    def setXZPlaneTex(self, xzplaneTex):\n",
    "        uvmod.Utility.ensurerelativepathexsists(xzplaneTex,dataFolder)\n",
    "        self.xzplaneTex = xzplaneTex\n",
    "    def setYZPlaneTex(self, yzplaneTex):\n",
    "        uvmod.Utility.ensurerelativepathexsists(yzplaneTex,dataFolder)\n",
    "        self.yzplaneTex = yzplaneTex\n",
    "    def setCutCrustAlpha(self, cutCrustAlpha):\n",
    "        #Restrict to [0,1]\n",
    "        self.cutCrustAlpha = max( min(cutCrustAlpha, 1.) , 0.)\n",
    "    def setCutOctant(self, cutOctant):\n",
    "        self.cutOctant = \" \".join(str(c) for c in cutOctant)\n",
    "    def setFadeStartDistance (self, fadeStartDistance):\n",
    "        self.fadeStartDistance = fadeStartDistance\n",
    "    def setFadeEndDistance(self, fadeEndDistance):\n",
    "        self.fadeEndDistance = fadeEndDistance\n",
    "    def generatemod(self):\n",
    "        self.object.setgeometry(self.object.name+\"Mesh.usesconf\")\n",
    "        return self.object.generatemod()\n",
    "    def generatefiles(self, absOutDir, relOutDir):\n",
    "        fileName = self.object.name+\"Mesh.usesconf\"\n",
    "        tempFile = open(\"./confTemplates/OctantCutArbitraryTexTemplateUSESConf.txt\")\n",
    "        s = tempFile.read()\n",
    "        tempFile.close()\n",
    "        template = string.Template(s)\n",
    "        outfile = open(absOutDir+\"//\"+fileName, \"w\")\n",
    "        outfile.write(template.substitute(folderName = relOutDir,\n",
    "                                          xyplaneTex = self.xyplaneTex,\n",
    "                                          xzplaneTex = self.xzplaneTex,\n",
    "                                          yzplaneTex = self.yzplaneTex,\n",
    "                                          cutOctant = self.cutOctant,\n",
    "                                          cutCrustAlpha = self.cutCrustAlpha,\n",
    "                                          fadeStartDistance =self.fadeStartDistance,\n",
    "                                          fadeEndDistance = self.fadeEndDistance))\n",
    "        outfile.close()\n",
    "        shutil.copy(os.getcwd()+\"\\\\\"+dataFolder+\"\\\\sphere.3ds\", absOutDir)\n",
    "        shutil.copy(os.getcwd()+\"\\\\\"+dataFolder+\"\\\\interior.vs\", absOutDir)\n",
    "        shutil.copy(os.getcwd()+\"\\\\\"+dataFolder+\"\\\\arbitraryTextureOctantInterior.fs\", absOutDir)\n",
    "        shutil.copy(os.getcwd()+\"\\\\\"+dataFolder+\"\\\\\"+self.xyplaneTex, absOutDir)\n",
    "        shutil.copy(os.getcwd()+\"\\\\\"+dataFolder+\"\\\\\"+self.xzplaneTex, absOutDir)\n",
    "        shutil.copy(os.getcwd()+\"\\\\\"+dataFolder+\"\\\\\"+self.yzplaneTex, absOutDir)"
   ]
  },
  {
   "cell_type": "markdown",
   "metadata": {},
   "source": [
    "### Object Instantiation"
   ]
  },
  {
   "cell_type": "code",
   "execution_count": 15,
   "metadata": {
    "collapsed": false
   },
   "outputs": [],
   "source": [
    "model = TexturedObjectInterior(uvmod.OrbitalObject())\n",
    "generator = uvmod.Generator()\n",
    "scene = uvmod.Scene()\n",
    "modInfo = uvmod.ModuleInformation()"
   ]
  },
  {
   "cell_type": "markdown",
   "metadata": {},
   "source": [
    "### Specify Settings and generate the module"
   ]
  },
  {
   "cell_type": "code",
   "execution_count": 17,
   "metadata": {
    "collapsed": false
   },
   "outputs": [
    {
     "name": "stdout",
     "output_type": "stream",
     "text": [
      "Unable to connect to Uniview\n",
      "Unable to connect to Uniview\n"
     ]
    }
   ],
   "source": [
    "#Note that these valuse should be slightly bigger than the radius of the planet\n",
    "model.object.setcameraradius(647.5)\n",
    "model.object.setscalefactor(647.5)\n",
    "\n",
    "model.object.setcoord(\"Earth\")\n",
    "model.object.custom = \"\"\"\trotation\n",
    "\t{\n",
    "\t\tspice\n",
    "\t\t{\n",
    "\t\t\tframe\t\tIAU_EARTH \n",
    "\t\t\treference\tECLIPJ2000\n",
    "\t\t}\n",
    "\t}\"\"\"\n",
    "model.object.setname(\"EarthInteriorExample\")\n",
    "model.object.setguiname(\"/Solar System/Planets/Earth/Effects/Earth Interior Example\")\n",
    "model.object.settargetradius(1800.0)\n",
    "model.object.showatstartup(False)\n",
    "model.setFadeStartDistance(10)\n",
    "model.setFadeEndDistance(15)\n",
    "model.setCutCrustAlpha(0.1)\n",
    "#model.setXZPlaneTex(\"90degWedge.wedge.v002.1.png\")\n",
    "#model.setYZPlaneTex(\"90degWedge.wedge.v002.2.png\")\n",
    "#model.setXYPlaneTex(\"90degWedge.wedge.v002.3.png\")\n",
    "\n",
    "model.setXYPlaneTex(\"r-g.png\")\n",
    "model.setXZPlaneTex(\"r-b.png\")\n",
    "model.setYZPlaneTex(\"g-b.png\")\n",
    "\n",
    "modInfo.setauthor(\"Jeffrey SubbaRao\")\n",
    "modInfo.setdesc(\"This module cuts away an octant of the earth and paints a texture on the exposed surfaces which can be genreted from an iPython notebook\")\n",
    "modInfo.setname(\"Earth Interior Example\")\n",
    "modInfo.setthumbnail(\"screenshot.png\")\n",
    "modInfo.cleardependencies()\n",
    "modInfo.adddependency(\"Earth\")\n",
    "modInfo.setversion(\"1.0\")\n",
    "\n",
    "generator.generate(\"EarthInteriorExample\",[],[model],modInfo)\n",
    "uvmod.Utility.senduvcommand(\"system.reloadallshaders\")\n",
    "uvmod.Utility.senduvcommand(model.object.name+\".reload\")"
   ]
  },
  {
   "cell_type": "code",
   "execution_count": null,
   "metadata": {
    "collapsed": true
   },
   "outputs": [],
   "source": []
  }
 ],
 "metadata": {
  "anaconda-cloud": {},
  "kernelspec": {
   "display_name": "Python [default]",
   "language": "python",
   "name": "python3"
  },
  "language_info": {
   "codemirror_mode": {
    "name": "ipython",
    "version": 3
   },
   "file_extension": ".py",
   "mimetype": "text/x-python",
   "name": "python",
   "nbconvert_exporter": "python",
   "pygments_lexer": "ipython3",
   "version": "3.5.2"
  }
 },
 "nbformat": 4,
 "nbformat_minor": 0
}

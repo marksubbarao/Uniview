{
 "cells": [
  {
   "cell_type": "markdown",
   "metadata": {},
   "source": [
    "# Process MPC style tables for Uniview data module\n",
    "Read in and process the data from these MPC sites http://www.minorplanetcenter.net/iau/lists/t_tnos.html and http://www.minorplanetcenter.net/iau/lists/t_centaurs.html\n",
    "\n",
    "Through some black magic Melissa Brucker has scraped those web pages and output the data as excell spreadsheets. I've exported those as .csv files"
   ]
  },
  {
   "cell_type": "code",
   "execution_count": 142,
   "metadata": {
    "collapsed": false
   },
   "outputs": [],
   "source": [
    "#Imports\n",
    "from astropy.table import Table,Column\n",
    "from astropy.time import Time\n",
    "from astropy import units\n",
    "from astropy.io import ascii"
   ]
  },
  {
   "cell_type": "code",
   "execution_count": 161,
   "metadata": {
    "collapsed": false
   },
   "outputs": [],
   "source": [
    "#Read in .csv file\n",
    "MPC_table = ascii.read('MPC_CentaurSDOlist_20160126.csv')\n",
    "#Convert the stupid (and inconsistent!) date formats that MPC uses, write them out as mjd\n",
    "epochTimeList=[]\n",
    "epochList=MPC_table['Epoch']\n",
    "for epochInt in epochList:\n",
    "    epoch=str(epochInt)\n",
    "    epochString= '{}-{}-{}'.format(epoch[0:4],epoch[4:6],epoch[6:8])\n",
    "    epochTime = Time(epochString).mjd\n",
    "    epochTimeList.append(epochTime)\n",
    "timeList=[]\n",
    "discoveryList=MPC_table['Discovery date']\n",
    "for discovery in discoveryList:\n",
    "    elements = discovery.split('/')\n",
    "    discoveryString= '{}-{:02d}-{:02d}'.format(elements[2],int(elements[0]),int(elements[1]))\n",
    "    discoveryTime = Time(discoveryString).mjd\n",
    "    timeList.append(discoveryTime)\n",
    "MPC_table.remove_columns(['Discovery date','Epoch'])\n",
    "MPC_table.add_column(Column(timeList,name='Discovery'))\n",
    "MPC_table.add_column(Column(epochTimeList,name='Epoch'))"
   ]
  },
  {
   "cell_type": "markdown",
   "metadata": {},
   "source": [
    "Add a column for daily motion. Calculate the Mean anomoly at the J2000 epoch (what the graphics shaders are expecting). the J2000 mjd is 51544.5"
   ]
  },
  {
   "cell_type": "code",
   "execution_count": 162,
   "metadata": {
    "collapsed": false
   },
   "outputs": [],
   "source": [
    "#Calculate daily motion via Kepler's Third Law\n",
    "MPC_table.add_column(Column((360/365.25)*MPC_table['a']**(-3./2.),name='n'))\n",
    "#Shift the Mean Anomoly to the J2000 epoch\n",
    "MPC_table['M']=MPC_table['M'] + (51544.5 - MPC_table['Epoch']) * MPC_table['n']"
   ]
  },
  {
   "cell_type": "markdown",
   "metadata": {},
   "source": [
    "## Filter the table by Opservation Arc\n",
    "\n",
    "The quantity we have available in the MPC table is:\n",
    "\n",
    "Opps. = Number of oppositions at which the object has been observed. If observations have been made at one opposition only, the arc length in days is given in parentheses.  \n",
    "\n",
    "We will filter out everything with less than one opposition of observations"
   ]
  },
  {
   "cell_type": "code",
   "execution_count": 163,
   "metadata": {
    "collapsed": false
   },
   "outputs": [],
   "source": [
    "deleteList=[]\n",
    "for i,row in enumerate(MPC_table):\n",
    "  if ('(' in row['Opps.'] and not('2013 RF98' in row['Prov.Des.'])):\n",
    "    deleteList.append(i)\n",
    "MPC_table.remove_rows(deleteList)\n"
   ]
  },
  {
   "cell_type": "code",
   "execution_count": 147,
   "metadata": {
    "collapsed": false
   },
   "outputs": [],
   "source": [
    "MPC_table.show_in_browser(jsviewer=True)"
   ]
  },
  {
   "cell_type": "markdown",
   "metadata": {},
   "source": [
    "## Add a special column used to highlight specific objects\n",
    "This is a hack for the Mike Brown lecture data set. At some point I should build a module without it"
   ]
  },
  {
   "cell_type": "code",
   "execution_count": 136,
   "metadata": {
    "collapsed": false
   },
   "outputs": [],
   "source": [
    "classList = []\n",
    "for row in MPC_table:\n",
    "  c = 1\n",
    "  if ('Eris' in row['Designation (and name)']):\n",
    "    c=2\n",
    "  elif ('Haumea' in row['Designation (and name)']):\n",
    "    c=3\n",
    "  elif ('Sedna' in row['Designation (and name)']):\n",
    "    c=4\n",
    "  classList.append(c)\n",
    "\n",
    "MPC_table.add_column(Column(classList, name='class'))"
   ]
  },
  {
   "cell_type": "code",
   "execution_count": 82,
   "metadata": {
    "collapsed": false
   },
   "outputs": [],
   "source": [
    "MPC_table.show_in_browser(jsviewer=True)"
   ]
  },
  {
   "cell_type": "markdown",
   "metadata": {},
   "source": [
    "## Match elongated orbits a>250 AU, q >30 AU"
   ]
  },
  {
   "cell_type": "code",
   "execution_count": 186,
   "metadata": {
    "collapsed": false
   },
   "outputs": [
    {
     "data": {
      "text/html": [
       "&lt;Table masked=True length=6&gt;\n",
       "<table id=\"table185785368\">\n",
       "<thead><tr><th>Designation (and name)</th><th>Prov.Des.</th><th>q</th><th>Q</th><th>H</th><th>M</th><th>Peri.</th><th>Node</th><th>Incl.</th><th>e</th><th>a</th><th>Opps.</th><th>Ref.</th><th>site</th><th>discoverer(s)</th><th>Discovery</th><th>Epoch</th><th>n</th><th>Precess</th></tr></thead>\n",
       "<thead><tr><th>string144</th><th>string80</th><th>float64</th><th>float64</th><th>float64</th><th>float64</th><th>float64</th><th>float64</th><th>float64</th><th>float64</th><th>float64</th><th>string48</th><th>string80</th><th>string32</th><th>string464</th><th>float64</th><th>float64</th><th>float64</th><th>float64</th></tr></thead>\n",
       "<tr><td>--</td><td>2013 RF98</td><td>36.29</td><td>614.0</td><td>8.6</td><td>-0.743726071964</td><td>316.5</td><td>67.6</td><td>29.6</td><td>0.888</td><td>325.0</td><td>( 56d)</td><td>MPO 331342</td><td>W84</td><td>Dark Energy Survey</td><td>56547.0</td><td>56560.0</td><td>0.000168223720858</td><td>0.86</td></tr>\n",
       "<tr><td>0.0</td><td>2012 VP113</td><td>80.29</td><td>444.0</td><td>4.0</td><td>1.93910592116</td><td>292.9</td><td>90.8</td><td>24.0</td><td>0.694</td><td>262.0</td><td>3</td><td>MPO 289737</td><td>807</td><td>0.0</td><td>56236.0</td><td>57400.0</td><td>0.000232412958559</td><td>0.27</td></tr>\n",
       "<tr><td>0.0</td><td>2010 GB174</td><td>48.719</td><td>694.0</td><td>6.5</td><td>2.39236450606</td><td>347.8</td><td>130.6</td><td>21.5</td><td>0.869</td><td>371.0</td><td>4</td><td>MPO 262140</td><td>568</td><td>0.0</td><td>55298.0</td><td>57400.0</td><td>0.000137927673801</td><td>0.06</td></tr>\n",
       "<tr><td>0.0</td><td>2007 TG422</td><td>35.579</td><td>949.0</td><td>6.2</td><td>-0.228845249241</td><td>285.8</td><td>113.0</td><td>18.6</td><td>0.928</td><td>492.0</td><td>4</td><td>MPO 252047</td><td>705</td><td>A. C. Becker, A. W. Puckett, J. Kubica</td><td>54376.0</td><td>57400.0</td><td>9.03159848417e-05</td><td>0.0</td></tr>\n",
       "<tr><td>0.0</td><td>2004 VN112</td><td>47.327</td><td>594.0</td><td>6.4</td><td>-0.608210680871</td><td>327.2</td><td>66.0</td><td>25.6</td><td>0.852</td><td>320.0</td><td>6</td><td>MPO 357120</td><td>807</td><td>0.0</td><td>53315.0</td><td>57400.0</td><td>0.000172181825783</td><td>-0.25</td></tr>\n",
       "<tr><td>(90377) Sedna</td><td>2003 VB12</td><td>76.045</td><td>939.0</td><td>1.6</td><td>357.594449758</td><td>311.5</td><td>144.5</td><td>11.9</td><td>0.85</td><td>507.0</td><td>13</td><td>MPO 359374</td><td>675</td><td>M. E. Brown, C. A. Trujillo, D. L. Rabinowitz</td><td>52957.0</td><td>57400.0</td><td>8.63376725873e-05</td><td>0.13</td></tr>\n",
       "</table>"
      ],
      "text/plain": [
       "<Table masked=True length=6>\n",
       "Designation (and name) Prov.Des.     q    ...  Epoch          n         Precess\n",
       "      string144         string80  float64 ... float64      float64      float64\n",
       "---------------------- ---------- ------- ... ------- ----------------- -------\n",
       "                    --  2013 RF98   36.29 ... 56560.0 0.000168223720858    0.86\n",
       "                   0.0 2012 VP113   80.29 ... 57400.0 0.000232412958559    0.27\n",
       "                   0.0 2010 GB174  48.719 ... 57400.0 0.000137927673801    0.06\n",
       "                   0.0 2007 TG422  35.579 ... 57400.0 9.03159848417e-05     0.0\n",
       "                   0.0 2004 VN112  47.327 ... 57400.0 0.000172181825783   -0.25\n",
       "         (90377) Sedna  2003 VB12  76.045 ... 57400.0 8.63376725873e-05    0.13"
      ]
     },
     "execution_count": 186,
     "metadata": {},
     "output_type": "execute_result"
    }
   ],
   "source": [
    "count =0\n",
    "FarTable=[]\n",
    "for row in MPC_table:\n",
    "    if (row['a']>250.0 and row['q']>30.):\n",
    "        if (count==0):\n",
    "            FarTable=Table(row)\n",
    "        else:\n",
    "            FarTable.add_row(row)\n",
    "        count=count+1\n",
    "        \n",
    "#Precession rates from Dan Fabrycky\n",
    "Precess=dict([('2013 RF98',0.86),('2012 VP113',0.27),('2010 GB174',0.06),('2007 TG422',0.0),('2004 VN112',-0.25),('2003 VB12',0.13)])\n",
    "\n",
    "PrecessList=[]\n",
    "for row in FarTable:\n",
    "    PrecessList.append(Precess[row['Prov.Des.']])\n",
    "FarTable.add_column(Column(PrecessList,name=\"Precess\"))\n",
    "\n",
    "FarTable"
   ]
  },
  {
   "cell_type": "markdown",
   "metadata": {},
   "source": [
    "## Perpendicular Centaurs a>250 AU, i > 50"
   ]
  },
  {
   "cell_type": "code",
   "execution_count": 194,
   "metadata": {
    "collapsed": false
   },
   "outputs": [
    {
     "data": {
      "text/html": [
       "&lt;Table masked=True length=5&gt;\n",
       "<table id=\"table184638152\">\n",
       "<thead><tr><th>Designation (and name)</th><th>Prov.Des.</th><th>q</th><th>Q</th><th>H</th><th>M</th><th>Peri.</th><th>Node</th><th>Incl.</th><th>e</th><th>a</th><th>Opps.</th><th>Ref.</th><th>site</th><th>discoverer(s)</th><th>Discovery</th><th>Epoch</th><th>n</th><th>Precess</th></tr></thead>\n",
       "<thead><tr><th>string144</th><th>string80</th><th>float64</th><th>float64</th><th>float64</th><th>float64</th><th>float64</th><th>float64</th><th>float64</th><th>float64</th><th>float64</th><th>string48</th><th>string80</th><th>string32</th><th>string464</th><th>float64</th><th>float64</th><th>float64</th><th>float64</th></tr></thead>\n",
       "<tr><td>--</td><td>2013 BL76</td><td>8.371</td><td>2418.0</td><td>10.8</td><td>-0.136610808046</td><td>166.1</td><td>180.2</td><td>98.6</td><td>0.993</td><td>1213.0</td><td>3</td><td>MPO 307057</td><td>G96</td><td>Mt. Lemmon Survey</td><td>56312.0</td><td>57400.0</td><td>2.33303403716e-05</td><td>0.0</td></tr>\n",
       "<tr><td>0.0</td><td>2012 DR30</td><td>14.551</td><td>2794.0</td><td>7.1</td><td>-0.109704792363</td><td>195.4</td><td>341.4</td><td>78.0</td><td>0.99</td><td>1404.0</td><td>8</td><td>MPO 339460</td><td>E12</td><td>Siding Spring Survey</td><td>55979.0</td><td>57400.0</td><td>1.87353415358e-05</td><td>0.0</td></tr>\n",
       "<tr><td>0.0</td><td>2010 BK118</td><td>6.1</td><td>963.0</td><td>10.2</td><td>-0.442011147845</td><td>179.1</td><td>176.0</td><td>143.9</td><td>0.987</td><td>484.0</td><td>5</td><td>MPO 271268</td><td>C51</td><td>WISE</td><td>55226.0</td><td>57400.0</td><td>9.25644518565e-05</td><td>0.0</td></tr>\n",
       "<tr><td>-418993</td><td>2009 MS9</td><td>11.002</td><td>684.0</td><td>9.9</td><td>-0.689011534057</td><td>128.7</td><td>220.2</td><td>68.1</td><td>0.968</td><td>348.0</td><td>5</td><td>MPO 360982</td><td>568</td><td>J.-M. Petit, B. Gladman, J. J. Kavelaars</td><td>55007.0</td><td>57400.0</td><td>0.000151825042107</td><td>0.0</td></tr>\n",
       "<tr><td>-336756</td><td>2010 NV1</td><td>9.41</td><td>637.0</td><td>10.6</td><td>-0.694197067899</td><td>132.9</td><td>136.2</td><td>140.8</td><td>0.971</td><td>323.0</td><td>7</td><td>MPO 345897</td><td>C51</td><td>WISE</td><td>55378.0</td><td>57400.0</td><td>0.00016978858644</td><td>0.0</td></tr>\n",
       "</table>"
      ],
      "text/plain": [
       "<Table masked=True length=5>\n",
       "Designation (and name) Prov.Des.     q    ...  Epoch          n         Precess\n",
       "      string144         string80  float64 ... float64      float64      float64\n",
       "---------------------- ---------- ------- ... ------- ----------------- -------\n",
       "                    --  2013 BL76   8.371 ... 57400.0 2.33303403716e-05     0.0\n",
       "                   0.0  2012 DR30  14.551 ... 57400.0 1.87353415358e-05     0.0\n",
       "                   0.0 2010 BK118     6.1 ... 57400.0 9.25644518565e-05     0.0\n",
       "               -418993   2009 MS9  11.002 ... 57400.0 0.000151825042107     0.0\n",
       "               -336756   2010 NV1    9.41 ... 57400.0  0.00016978858644     0.0"
      ]
     },
     "execution_count": 194,
     "metadata": {},
     "output_type": "execute_result"
    }
   ],
   "source": [
    "import numpy as np\n",
    "count =0\n",
    "PCentaurTable=[]\n",
    "for row in MPC_table:\n",
    "    if (row['a']>200.0 and row['Incl.']>50.):\n",
    "        if (count==0):\n",
    "            PCentaurTable=Table(row)\n",
    "        else:\n",
    "            PCentaurTable.add_row(row)\n",
    "        count=count+1\n",
    "# Add a column of zeros for precession rates, which we do not have yet.\n",
    "PCentaurTable.add_column(Column(np.zeros(len(PCentaurTable)),name=\"Precess\"))\n",
    "\n",
    "PCentaurTable"
   ]
  },
  {
   "cell_type": "markdown",
   "metadata": {},
   "source": [
    "## Output Uniview .raw style file\n",
    "nine floats per line, our TNO shader expects:\n",
    "\n",
    "a  e  i  Omega  omega  M  H  class  Discobery(mjd)"
   ]
  },
  {
   "cell_type": "code",
   "execution_count": 137,
   "metadata": {
    "collapsed": false
   },
   "outputs": [
    {
     "data": {
      "text/html": [
       "&lt;Table masked=True length=914&gt;\n",
       "<table id=\"table189701872\">\n",
       "<thead><tr><th>a</th><th>e</th><th>Incl.</th><th>Node</th><th>Peri.</th><th>M</th><th>H</th><th>class</th><th>Discovery</th></tr></thead>\n",
       "<thead><tr><th>float64</th><th>float64</th><th>float64</th><th>float64</th><th>float64</th><th>float64</th><th>float64</th><th>int32</th><th>float64</th></tr></thead>\n",
       "<tr><td>45.334</td><td>0.132</td><td>27.2</td><td>174.4</td><td>331.1</td><td>245.892234777</td><td>7.4</td><td>1</td><td>56956.0</td></tr>\n",
       "<tr><td>42.938</td><td>0.157</td><td>17.4</td><td>236.6</td><td>268.9</td><td>248.387738523</td><td>4.9</td><td>1</td><td>56952.0</td></tr>\n",
       "<tr><td>40.436</td><td>0.074</td><td>17.8</td><td>98.3</td><td>267.1</td><td>7.25477415436</td><td>8.1</td><td>1</td><td>56932.0</td></tr>\n",
       "<tr><td>41.148</td><td>0.106</td><td>19.3</td><td>113.2</td><td>301.2</td><td>319.134814572</td><td>8.0</td><td>1</td><td>56887.0</td></tr>\n",
       "<tr><td>46.757</td><td>0.062</td><td>38.0</td><td>186.0</td><td>257.2</td><td>298.548790613</td><td>5.6</td><td>1</td><td>56888.0</td></tr>\n",
       "<tr><td>45.999</td><td>0.28</td><td>20.7</td><td>144.7</td><td>242.7</td><td>-14.6992310179</td><td>6.7</td><td>1</td><td>56887.0</td></tr>\n",
       "<tr><td>39.504</td><td>0.278</td><td>18.3</td><td>96.1</td><td>313.0</td><td>331.655797377</td><td>8.5</td><td>1</td><td>56890.0</td></tr>\n",
       "<tr><td>48.359</td><td>0.252</td><td>26.3</td><td>75.8</td><td>293.5</td><td>-5.56169953011</td><td>6.5</td><td>1</td><td>56887.0</td></tr>\n",
       "<tr><td>46.132</td><td>0.135</td><td>4.7</td><td>83.8</td><td>166.5</td><td>43.4807120863</td><td>6.0</td><td>1</td><td>56894.0</td></tr>\n",
       "<tr><td>44.427</td><td>0.241</td><td>18.5</td><td>241.9</td><td>240.6</td><td>26.2102719285</td><td>5.2</td><td>1</td><td>56744.0</td></tr>\n",
       "<tr><td>...</td><td>...</td><td>...</td><td>...</td><td>...</td><td>...</td><td>...</td><td>...</td><td>...</td></tr>\n",
       "<tr><td>47.347</td><td>0.213</td><td>19.1</td><td>127.1</td><td>302.6</td><td>48.2851466352</td><td>7.1</td><td>1</td><td>50482.0</td></tr>\n",
       "<tr><td>39.388</td><td>0.33</td><td>5.7</td><td>316.9</td><td>75.6</td><td>-0.64696152464</td><td>7.0</td><td>1</td><td>50367.0</td></tr>\n",
       "<tr><td>36.633</td><td>0.077</td><td>6.5</td><td>127.4</td><td>338.5</td><td>26.6703977089</td><td>7.7</td><td>1</td><td>49772.0</td></tr>\n",
       "<tr><td>39.392</td><td>0.316</td><td>12.1</td><td>317.5</td><td>99.3</td><td>332.056594482</td><td>7.3</td><td>1</td><td>49627.0</td></tr>\n",
       "<tr><td>39.386</td><td>0.119</td><td>3.8</td><td>144.7</td><td>101.3</td><td>6.35126013347</td><td>7.6</td><td>1</td><td>49484.0</td></tr>\n",
       "<tr><td>42.204</td><td>0.216</td><td>14.0</td><td>56.3</td><td>236.9</td><td>329.550303428</td><td>7.8</td><td>1</td><td>49483.0</td></tr>\n",
       "<tr><td>44.02</td><td>0.064</td><td>0.6</td><td>176.7</td><td>309.9</td><td>48.6393509952</td><td>7.4</td><td>1</td><td>49457.0</td></tr>\n",
       "<tr><td>39.408</td><td>0.184</td><td>5.2</td><td>354.7</td><td>316.2</td><td>42.7708094856</td><td>7.0</td><td>1</td><td>49247.0</td></tr>\n",
       "<tr><td>39.301</td><td>0.32</td><td>1.9</td><td>354.9</td><td>79.4</td><td>326.37547139</td><td>7.9</td><td>1</td><td>49246.0</td></tr>\n",
       "<tr><td>43.795</td><td>0.066</td><td>2.2</td><td>359.5</td><td>2.8</td><td>6.98687291279</td><td>7.1</td><td>1</td><td>48864.0</td></tr>\n",
       "</table>"
      ],
      "text/plain": [
       "<Table masked=True length=914>\n",
       "   a       e     Incl.    Node   Peri.        M           H    class Discovery\n",
       "float64 float64 float64 float64 float64    float64     float64 int32  float64 \n",
       "------- ------- ------- ------- ------- -------------- ------- ----- ---------\n",
       " 45.334   0.132    27.2   174.4   331.1  245.892234777     7.4     1   56956.0\n",
       " 42.938   0.157    17.4   236.6   268.9  248.387738523     4.9     1   56952.0\n",
       " 40.436   0.074    17.8    98.3   267.1  7.25477415436     8.1     1   56932.0\n",
       " 41.148   0.106    19.3   113.2   301.2  319.134814572     8.0     1   56887.0\n",
       " 46.757   0.062    38.0   186.0   257.2  298.548790613     5.6     1   56888.0\n",
       " 45.999    0.28    20.7   144.7   242.7 -14.6992310179     6.7     1   56887.0\n",
       " 39.504   0.278    18.3    96.1   313.0  331.655797377     8.5     1   56890.0\n",
       " 48.359   0.252    26.3    75.8   293.5 -5.56169953011     6.5     1   56887.0\n",
       " 46.132   0.135     4.7    83.8   166.5  43.4807120863     6.0     1   56894.0\n",
       " 44.427   0.241    18.5   241.9   240.6  26.2102719285     5.2     1   56744.0\n",
       "    ...     ...     ...     ...     ...            ...     ...   ...       ...\n",
       " 47.347   0.213    19.1   127.1   302.6  48.2851466352     7.1     1   50482.0\n",
       " 39.388    0.33     5.7   316.9    75.6 -0.64696152464     7.0     1   50367.0\n",
       " 36.633   0.077     6.5   127.4   338.5  26.6703977089     7.7     1   49772.0\n",
       " 39.392   0.316    12.1   317.5    99.3  332.056594482     7.3     1   49627.0\n",
       " 39.386   0.119     3.8   144.7   101.3  6.35126013347     7.6     1   49484.0\n",
       " 42.204   0.216    14.0    56.3   236.9  329.550303428     7.8     1   49483.0\n",
       "  44.02   0.064     0.6   176.7   309.9  48.6393509952     7.4     1   49457.0\n",
       " 39.408   0.184     5.2   354.7   316.2  42.7708094856     7.0     1   49247.0\n",
       " 39.301    0.32     1.9   354.9    79.4   326.37547139     7.9     1   49246.0\n",
       " 43.795   0.066     2.2   359.5     2.8  6.98687291279     7.1     1   48864.0"
      ]
     },
     "execution_count": 137,
     "metadata": {},
     "output_type": "execute_result"
    }
   ],
   "source": [
    "#Main Table\n",
    "outTable = Table([MPC_table['a'],MPC_table['e'],MPC_table['Incl.'],MPC_table['Node'],MPC_table['Peri.'],MPC_table['M'],MPC_table['H'],MPC_table['class'],MPC_table['Discovery']])\n",
    "outTable"
   ]
  },
  {
   "cell_type": "code",
   "execution_count": 197,
   "metadata": {
    "collapsed": false
   },
   "outputs": [
    {
     "data": {
      "text/html": [
       "&lt;Table masked=True length=5&gt;\n",
       "<table id=\"table185785088\">\n",
       "<thead><tr><th>a</th><th>e</th><th>Incl.</th><th>Node</th><th>Peri.</th><th>M</th><th>H</th><th>Precess</th><th>Discovery</th></tr></thead>\n",
       "<thead><tr><th>float64</th><th>float64</th><th>float64</th><th>float64</th><th>float64</th><th>float64</th><th>float64</th><th>float64</th><th>float64</th></tr></thead>\n",
       "<tr><td>1213.0</td><td>0.993</td><td>98.6</td><td>180.2</td><td>166.1</td><td>-0.136610808046</td><td>10.8</td><td>0.0</td><td>56312.0</td></tr>\n",
       "<tr><td>1404.0</td><td>0.99</td><td>78.0</td><td>341.4</td><td>195.4</td><td>-0.109704792363</td><td>7.1</td><td>0.0</td><td>55979.0</td></tr>\n",
       "<tr><td>484.0</td><td>0.987</td><td>143.9</td><td>176.0</td><td>179.1</td><td>-0.442011147845</td><td>10.2</td><td>0.0</td><td>55226.0</td></tr>\n",
       "<tr><td>348.0</td><td>0.968</td><td>68.1</td><td>220.2</td><td>128.7</td><td>-0.689011534057</td><td>9.9</td><td>0.0</td><td>55007.0</td></tr>\n",
       "<tr><td>323.0</td><td>0.971</td><td>140.8</td><td>136.2</td><td>132.9</td><td>-0.694197067899</td><td>10.6</td><td>0.0</td><td>55378.0</td></tr>\n",
       "</table>"
      ],
      "text/plain": [
       "<Table masked=True length=5>\n",
       "   a       e     Incl.    Node  ...        M           H    Precess Discovery\n",
       "float64 float64 float64 float64 ...     float64     float64 float64  float64 \n",
       "------- ------- ------- ------- ... --------------- ------- ------- ---------\n",
       " 1213.0   0.993    98.6   180.2 ... -0.136610808046    10.8     0.0   56312.0\n",
       " 1404.0    0.99    78.0   341.4 ... -0.109704792363     7.1     0.0   55979.0\n",
       "  484.0   0.987   143.9   176.0 ... -0.442011147845    10.2     0.0   55226.0\n",
       "  348.0   0.968    68.1   220.2 ... -0.689011534057     9.9     0.0   55007.0\n",
       "  323.0   0.971   140.8   136.2 ... -0.694197067899    10.6     0.0   55378.0"
      ]
     },
     "execution_count": 197,
     "metadata": {},
     "output_type": "execute_result"
    }
   ],
   "source": [
    "#Perpendicular Centaur Objects\n",
    "outTable = Table([PCentaurTable['a'],PCentaurTable['e'],PCentaurTable['Incl.'],PCentaurTable['Node'],PCentaurTable['Peri.'],PCentaurTable['M'],PCentaurTable['H'],PCentaurTable['Precess'],PCentaurTable['Discovery']])\n",
    "outTable"
   ]
  },
  {
   "cell_type": "code",
   "execution_count": 195,
   "metadata": {
    "collapsed": true
   },
   "outputs": [],
   "source": [
    "outTable.filled(-9999).write(\"AlignedKBOs.raw\",format='ascii.no_header') #filled just in case, unnecessary I think"
   ]
  },
  {
   "cell_type": "code",
   "execution_count": 198,
   "metadata": {
    "collapsed": true
   },
   "outputs": [],
   "source": [
    "outTable.filled(-9999).write(\"PerpendicularCentaurs.raw\",format='ascii.no_header') #filled just in case, unnecessary I think"
   ]
  },
  {
   "cell_type": "code",
   "execution_count": 187,
   "metadata": {
    "collapsed": false,
    "scrolled": true
   },
   "outputs": [
    {
     "data": {
      "text/html": [
       "&lt;Table masked=True length=6&gt;\n",
       "<table id=\"table171719592\">\n",
       "<thead><tr><th>a</th><th>e</th><th>Incl.</th><th>Node</th><th>Peri.</th><th>M</th><th>H</th><th>Precess</th><th>Discovery</th></tr></thead>\n",
       "<thead><tr><th>float64</th><th>float64</th><th>float64</th><th>float64</th><th>float64</th><th>float64</th><th>float64</th><th>float64</th><th>float64</th></tr></thead>\n",
       "<tr><td>325.0</td><td>0.888</td><td>29.6</td><td>67.6</td><td>316.5</td><td>-0.743726071964</td><td>8.6</td><td>0.86</td><td>56547.0</td></tr>\n",
       "<tr><td>262.0</td><td>0.694</td><td>24.0</td><td>90.8</td><td>292.9</td><td>1.93910592116</td><td>4.0</td><td>0.27</td><td>56236.0</td></tr>\n",
       "<tr><td>371.0</td><td>0.869</td><td>21.5</td><td>130.6</td><td>347.8</td><td>2.39236450606</td><td>6.5</td><td>0.06</td><td>55298.0</td></tr>\n",
       "<tr><td>492.0</td><td>0.928</td><td>18.6</td><td>113.0</td><td>285.8</td><td>-0.228845249241</td><td>6.2</td><td>0.0</td><td>54376.0</td></tr>\n",
       "<tr><td>320.0</td><td>0.852</td><td>25.6</td><td>66.0</td><td>327.2</td><td>-0.608210680871</td><td>6.4</td><td>-0.25</td><td>53315.0</td></tr>\n",
       "<tr><td>507.0</td><td>0.85</td><td>11.9</td><td>144.5</td><td>311.5</td><td>357.594449758</td><td>1.6</td><td>0.13</td><td>52957.0</td></tr>\n",
       "</table>"
      ],
      "text/plain": [
       "<Table masked=True length=6>\n",
       "   a       e     Incl.    Node  ...        M           H    Precess Discovery\n",
       "float64 float64 float64 float64 ...     float64     float64 float64  float64 \n",
       "------- ------- ------- ------- ... --------------- ------- ------- ---------\n",
       "  325.0   0.888    29.6    67.6 ... -0.743726071964     8.6    0.86   56547.0\n",
       "  262.0   0.694    24.0    90.8 ...   1.93910592116     4.0    0.27   56236.0\n",
       "  371.0   0.869    21.5   130.6 ...   2.39236450606     6.5    0.06   55298.0\n",
       "  492.0   0.928    18.6   113.0 ... -0.228845249241     6.2     0.0   54376.0\n",
       "  320.0   0.852    25.6    66.0 ... -0.608210680871     6.4   -0.25   53315.0\n",
       "  507.0    0.85    11.9   144.5 ...   357.594449758     1.6    0.13   52957.0"
      ]
     },
     "execution_count": 187,
     "metadata": {},
     "output_type": "execute_result"
    }
   ],
   "source": [
    "#Aligned Objects\n",
    "outTable = Table([FarTable['a'],FarTable['e'],FarTable['Incl.'],FarTable['Node'],FarTable['Peri.'],FarTable['M'],FarTable['H'],FarTable['Precess'],FarTable['Discovery']])\n",
    "outTable"
   ]
  },
  {
   "cell_type": "code",
   "execution_count": 139,
   "metadata": {
    "collapsed": false
   },
   "outputs": [],
   "source": [
    "#Concatenate the two tables\n",
    "from astropy.table import vstack\n",
    "TNO_table = ascii.read('TNOs_MPC_Jan2016.raw')\n",
    "Centaur_table = ascii.read('Centaurs_MPC_Jan2016.raw')\n",
    "KBO_table=vstack([TNO_table,Centaur_table])"
   ]
  },
  {
   "cell_type": "code",
   "execution_count": 140,
   "metadata": {
    "collapsed": false
   },
   "outputs": [
    {
     "data": {
      "text/html": [
       "&lt;Table masked=False length=1273&gt;\n",
       "<table id=\"table189278136\">\n",
       "<thead><tr><th>col1</th><th>col2</th><th>col3</th><th>col4</th><th>col5</th><th>col6</th><th>col7</th><th>col8</th><th>col9</th></tr></thead>\n",
       "<thead><tr><th>float64</th><th>float64</th><th>float64</th><th>float64</th><th>float64</th><th>float64</th><th>float64</th><th>int32</th><th>float64</th></tr></thead>\n",
       "<tr><td>45.334</td><td>0.132</td><td>27.2</td><td>174.4</td><td>331.1</td><td>245.892234777</td><td>7.4</td><td>1</td><td>56956.0</td></tr>\n",
       "<tr><td>42.938</td><td>0.157</td><td>17.4</td><td>236.6</td><td>268.9</td><td>248.387738523</td><td>4.9</td><td>1</td><td>56952.0</td></tr>\n",
       "<tr><td>40.436</td><td>0.074</td><td>17.8</td><td>98.3</td><td>267.1</td><td>7.25477415436</td><td>8.1</td><td>1</td><td>56932.0</td></tr>\n",
       "<tr><td>41.148</td><td>0.106</td><td>19.3</td><td>113.2</td><td>301.2</td><td>319.134814572</td><td>8.0</td><td>1</td><td>56887.0</td></tr>\n",
       "<tr><td>46.757</td><td>0.062</td><td>38.0</td><td>186.0</td><td>257.2</td><td>298.548790613</td><td>5.6</td><td>1</td><td>56888.0</td></tr>\n",
       "<tr><td>45.999</td><td>0.28</td><td>20.7</td><td>144.7</td><td>242.7</td><td>-14.6992310179</td><td>6.7</td><td>1</td><td>56887.0</td></tr>\n",
       "<tr><td>39.504</td><td>0.278</td><td>18.3</td><td>96.1</td><td>313.0</td><td>331.655797377</td><td>8.5</td><td>1</td><td>56890.0</td></tr>\n",
       "<tr><td>48.359</td><td>0.252</td><td>26.3</td><td>75.8</td><td>293.5</td><td>-5.56169953011</td><td>6.5</td><td>1</td><td>56887.0</td></tr>\n",
       "<tr><td>46.132</td><td>0.135</td><td>4.7</td><td>83.8</td><td>166.5</td><td>43.4807120863</td><td>6.0</td><td>1</td><td>56894.0</td></tr>\n",
       "<tr><td>44.427</td><td>0.241</td><td>18.5</td><td>241.9</td><td>240.6</td><td>26.2102719285</td><td>5.2</td><td>1</td><td>56744.0</td></tr>\n",
       "<tr><td>...</td><td>...</td><td>...</td><td>...</td><td>...</td><td>...</td><td>...</td><td>...</td><td>...</td></tr>\n",
       "<tr><td>96.144</td><td>0.872</td><td>6.0</td><td>184.8</td><td>172.6</td><td>0.0780048462286</td><td>8.7</td><td>1</td><td>51454.0</td></tr>\n",
       "<tr><td>56.005</td><td>0.423</td><td>7.6</td><td>322.9</td><td>160.2</td><td>11.6299328179</td><td>5.0</td><td>1</td><td>51229.0</td></tr>\n",
       "<tr><td>94.5</td><td>0.595</td><td>13.3</td><td>194.1</td><td>356.6</td><td>3.9175571195</td><td>5.2</td><td>1</td><td>50185.0</td></tr>\n",
       "<tr><td>83.417</td><td>0.58</td><td>24.0</td><td>217.8</td><td>184.8</td><td>-0.77520536574</td><td>5.4</td><td>1</td><td>50365.0</td></tr>\n",
       "<tr><td>25.075</td><td>0.248</td><td>4.1</td><td>178.1</td><td>6.3</td><td>13.2363140188</td><td>8.6</td><td>1</td><td>49775.0</td></tr>\n",
       "<tr><td>15.789</td><td>0.172</td><td>23.4</td><td>300.4</td><td>242.2</td><td>-23.0907848853</td><td>6.6</td><td>1</td><td>50494.0</td></tr>\n",
       "<tr><td>17.986</td><td>0.619</td><td>17.6</td><td>6.2</td><td>290.2</td><td>-12.0614008471</td><td>9.1</td><td>1</td><td>49812.0</td></tr>\n",
       "<tr><td>24.504</td><td>0.52</td><td>15.7</td><td>31.2</td><td>170.4</td><td>23.4204000923</td><td>9.6</td><td>1</td><td>49103.0</td></tr>\n",
       "<tr><td>20.367</td><td>0.573</td><td>24.7</td><td>119.3</td><td>355.1</td><td>32.3106963878</td><td>7.1</td><td>1</td><td>48630.0</td></tr>\n",
       "<tr><td>13.637</td><td>0.383</td><td>6.9</td><td>209.2</td><td>339.5</td><td>27.5964684655</td><td>6.0</td><td>1</td><td>43434.0</td></tr>\n",
       "</table>"
      ],
      "text/plain": [
       "<Table masked=False length=1273>\n",
       "  col1    col2    col3    col4    col5        col6        col7   col8   col9 \n",
       "float64 float64 float64 float64 float64     float64     float64 int32 float64\n",
       "------- ------- ------- ------- ------- --------------- ------- ----- -------\n",
       " 45.334   0.132    27.2   174.4   331.1   245.892234777     7.4     1 56956.0\n",
       " 42.938   0.157    17.4   236.6   268.9   248.387738523     4.9     1 56952.0\n",
       " 40.436   0.074    17.8    98.3   267.1   7.25477415436     8.1     1 56932.0\n",
       " 41.148   0.106    19.3   113.2   301.2   319.134814572     8.0     1 56887.0\n",
       " 46.757   0.062    38.0   186.0   257.2   298.548790613     5.6     1 56888.0\n",
       " 45.999    0.28    20.7   144.7   242.7  -14.6992310179     6.7     1 56887.0\n",
       " 39.504   0.278    18.3    96.1   313.0   331.655797377     8.5     1 56890.0\n",
       " 48.359   0.252    26.3    75.8   293.5  -5.56169953011     6.5     1 56887.0\n",
       " 46.132   0.135     4.7    83.8   166.5   43.4807120863     6.0     1 56894.0\n",
       " 44.427   0.241    18.5   241.9   240.6   26.2102719285     5.2     1 56744.0\n",
       "    ...     ...     ...     ...     ...             ...     ...   ...     ...\n",
       " 96.144   0.872     6.0   184.8   172.6 0.0780048462286     8.7     1 51454.0\n",
       " 56.005   0.423     7.6   322.9   160.2   11.6299328179     5.0     1 51229.0\n",
       "   94.5   0.595    13.3   194.1   356.6    3.9175571195     5.2     1 50185.0\n",
       " 83.417    0.58    24.0   217.8   184.8  -0.77520536574     5.4     1 50365.0\n",
       " 25.075   0.248     4.1   178.1     6.3   13.2363140188     8.6     1 49775.0\n",
       " 15.789   0.172    23.4   300.4   242.2  -23.0907848853     6.6     1 50494.0\n",
       " 17.986   0.619    17.6     6.2   290.2  -12.0614008471     9.1     1 49812.0\n",
       " 24.504    0.52    15.7    31.2   170.4   23.4204000923     9.6     1 49103.0\n",
       " 20.367   0.573    24.7   119.3   355.1   32.3106963878     7.1     1 48630.0\n",
       " 13.637   0.383     6.9   209.2   339.5   27.5964684655     6.0     1 43434.0"
      ]
     },
     "execution_count": 140,
     "metadata": {},
     "output_type": "execute_result"
    }
   ],
   "source": [
    "KBO_table"
   ]
  },
  {
   "cell_type": "code",
   "execution_count": 141,
   "metadata": {
    "collapsed": true
   },
   "outputs": [],
   "source": [
    "KBO_table.filled(-9999).write(\"KBOs_MPC_Jan2016.raw\",format='ascii.no_header') #filled just in case, unnecessary I think"
   ]
  },
  {
   "cell_type": "code",
   "execution_count": 101,
   "metadata": {
    "collapsed": false
   },
   "outputs": [
    {
     "data": {
      "text/html": [
       "&lt;Table masked=False length=358&gt;\n",
       "<table id=\"table171722120\">\n",
       "<thead><tr><th>col1</th><th>col2</th><th>col3</th><th>col4</th><th>col5</th><th>col6</th><th>col7</th><th>col8</th><th>col9</th></tr></thead>\n",
       "<thead><tr><th>float64</th><th>float64</th><th>float64</th><th>float64</th><th>float64</th><th>float64</th><th>float64</th><th>int32</th><th>float64</th></tr></thead>\n",
       "<tr><td>163.0</td><td>0.796</td><td>23.4</td><td>33.6</td><td>355.0</td><td>356.926712751</td><td>6.4</td><td>1</td><td>57285.0</td></tr>\n",
       "<tr><td>14.36</td><td>0.539</td><td>9.5</td><td>12.8</td><td>30.7</td><td>234.241714641</td><td>11.5</td><td>1</td><td>57244.0</td></tr>\n",
       "<tr><td>11.576</td><td>0.294</td><td>33.3</td><td>58.7</td><td>139.9</td><td>-135.634026796</td><td>12.3</td><td>1</td><td>57135.0</td></tr>\n",
       "<tr><td>8.646</td><td>0.232</td><td>33.3</td><td>278.6</td><td>63.0</td><td>131.585595609</td><td>11.8</td><td>1</td><td>57135.0</td></tr>\n",
       "<tr><td>19.219</td><td>0.325</td><td>37.7</td><td>6.3</td><td>237.7</td><td>238.801654566</td><td>8.3</td><td>1</td><td>57080.0</td></tr>\n",
       "<tr><td>14.144</td><td>0.509</td><td>16.8</td><td>314.9</td><td>163.1</td><td>-101.197039995</td><td>12.6</td><td>1</td><td>57063.0</td></tr>\n",
       "<tr><td>38.259</td><td>0.754</td><td>86.0</td><td>171.8</td><td>159.1</td><td>-23.3879805429</td><td>11.1</td><td>1</td><td>56933.0</td></tr>\n",
       "<tr><td>25.82</td><td>0.176</td><td>15.5</td><td>117.2</td><td>359.2</td><td>256.411221286</td><td>9.5</td><td>1</td><td>56924.0</td></tr>\n",
       "<tr><td>15.039</td><td>0.313</td><td>3.0</td><td>21.7</td><td>7.2</td><td>-98.3572966272</td><td>11.3</td><td>1</td><td>56919.0</td></tr>\n",
       "<tr><td>8.97</td><td>0.153</td><td>10.7</td><td>22.6</td><td>288.7</td><td>-164.62637338</td><td>12.9</td><td>1</td><td>56919.0</td></tr>\n",
       "<tr><td>...</td><td>...</td><td>...</td><td>...</td><td>...</td><td>...</td><td>...</td><td>...</td><td>...</td></tr>\n",
       "<tr><td>96.144</td><td>0.872</td><td>6.0</td><td>184.8</td><td>172.6</td><td>0.0780048462286</td><td>8.7</td><td>1</td><td>51454.0</td></tr>\n",
       "<tr><td>56.005</td><td>0.423</td><td>7.6</td><td>322.9</td><td>160.2</td><td>11.6299328179</td><td>5.0</td><td>1</td><td>51229.0</td></tr>\n",
       "<tr><td>94.5</td><td>0.595</td><td>13.3</td><td>194.1</td><td>356.6</td><td>3.9175571195</td><td>5.2</td><td>1</td><td>50185.0</td></tr>\n",
       "<tr><td>83.417</td><td>0.58</td><td>24.0</td><td>217.8</td><td>184.8</td><td>-0.77520536574</td><td>5.4</td><td>1</td><td>50365.0</td></tr>\n",
       "<tr><td>25.075</td><td>0.248</td><td>4.1</td><td>178.1</td><td>6.3</td><td>13.2363140188</td><td>8.6</td><td>1</td><td>49775.0</td></tr>\n",
       "<tr><td>15.789</td><td>0.172</td><td>23.4</td><td>300.4</td><td>242.2</td><td>-23.0907848853</td><td>6.6</td><td>1</td><td>50494.0</td></tr>\n",
       "<tr><td>17.986</td><td>0.619</td><td>17.6</td><td>6.2</td><td>290.2</td><td>-12.0614008471</td><td>9.1</td><td>1</td><td>49812.0</td></tr>\n",
       "<tr><td>24.504</td><td>0.52</td><td>15.7</td><td>31.2</td><td>170.4</td><td>23.4204000923</td><td>9.6</td><td>1</td><td>49103.0</td></tr>\n",
       "<tr><td>20.367</td><td>0.573</td><td>24.7</td><td>119.3</td><td>355.1</td><td>32.3106963878</td><td>7.1</td><td>1</td><td>48630.0</td></tr>\n",
       "<tr><td>13.637</td><td>0.383</td><td>6.9</td><td>209.2</td><td>339.5</td><td>27.5964684655</td><td>6.0</td><td>1</td><td>43434.0</td></tr>\n",
       "</table>"
      ],
      "text/plain": [
       "<Table masked=False length=358>\n",
       "  col1    col2    col3    col4    col5        col6        col7   col8   col9 \n",
       "float64 float64 float64 float64 float64     float64     float64 int32 float64\n",
       "------- ------- ------- ------- ------- --------------- ------- ----- -------\n",
       "  163.0   0.796    23.4    33.6   355.0   356.926712751     6.4     1 57285.0\n",
       "  14.36   0.539     9.5    12.8    30.7   234.241714641    11.5     1 57244.0\n",
       " 11.576   0.294    33.3    58.7   139.9  -135.634026796    12.3     1 57135.0\n",
       "  8.646   0.232    33.3   278.6    63.0   131.585595609    11.8     1 57135.0\n",
       " 19.219   0.325    37.7     6.3   237.7   238.801654566     8.3     1 57080.0\n",
       " 14.144   0.509    16.8   314.9   163.1  -101.197039995    12.6     1 57063.0\n",
       " 38.259   0.754    86.0   171.8   159.1  -23.3879805429    11.1     1 56933.0\n",
       "  25.82   0.176    15.5   117.2   359.2   256.411221286     9.5     1 56924.0\n",
       " 15.039   0.313     3.0    21.7     7.2  -98.3572966272    11.3     1 56919.0\n",
       "   8.97   0.153    10.7    22.6   288.7   -164.62637338    12.9     1 56919.0\n",
       "    ...     ...     ...     ...     ...             ...     ...   ...     ...\n",
       " 96.144   0.872     6.0   184.8   172.6 0.0780048462286     8.7     1 51454.0\n",
       " 56.005   0.423     7.6   322.9   160.2   11.6299328179     5.0     1 51229.0\n",
       "   94.5   0.595    13.3   194.1   356.6    3.9175571195     5.2     1 50185.0\n",
       " 83.417    0.58    24.0   217.8   184.8  -0.77520536574     5.4     1 50365.0\n",
       " 25.075   0.248     4.1   178.1     6.3   13.2363140188     8.6     1 49775.0\n",
       " 15.789   0.172    23.4   300.4   242.2  -23.0907848853     6.6     1 50494.0\n",
       " 17.986   0.619    17.6     6.2   290.2  -12.0614008471     9.1     1 49812.0\n",
       " 24.504    0.52    15.7    31.2   170.4   23.4204000923     9.6     1 49103.0\n",
       " 20.367   0.573    24.7   119.3   355.1   32.3106963878     7.1     1 48630.0\n",
       " 13.637   0.383     6.9   209.2   339.5   27.5964684655     6.0     1 43434.0"
      ]
     },
     "execution_count": 101,
     "metadata": {},
     "output_type": "execute_result"
    }
   ],
   "source": [
    "Centaur_table"
   ]
  },
  {
   "cell_type": "code",
   "execution_count": null,
   "metadata": {
    "collapsed": true
   },
   "outputs": [],
   "source": []
  }
 ],
 "metadata": {
  "kernelspec": {
   "display_name": "Python 2",
   "language": "python",
   "name": "python2"
  },
  "language_info": {
   "codemirror_mode": {
    "name": "ipython",
    "version": 2
   },
   "file_extension": ".py",
   "mimetype": "text/x-python",
   "name": "python",
   "nbconvert_exporter": "python",
   "pygments_lexer": "ipython2",
   "version": "2.7.6"
  }
 },
 "nbformat": 4,
 "nbformat_minor": 0
}
